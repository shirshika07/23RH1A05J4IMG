{
  "nbformat": 4,
  "nbformat_minor": 0,
  "metadata": {
    "colab": {
      "provenance": []
    },
    "kernelspec": {
      "name": "python3",
      "display_name": "Python 3"
    },
    "language_info": {
      "name": "python"
    }
  },
  "cells": [
    {
      "cell_type": "code",
      "source": [
        "import gradio as gr\n",
        "from PIL import Image\n",
        "from transformers import CLIPProcessor,CLIPModel\n",
        "import torch\n",
        "import random\n",
        "\n",
        "clip_model=CLIPModel.from_pretrained(\"openai/clip-vit-base-patch32\")\n",
        "clip_processor=CLIPProcessor.from_pretrained(\"openai/clip-vit-base-patch32\")\n",
        "\n",
        "moods = [\"happy\", \"sad\", \"chill\", \"dark\", \"energetic\", \"lonely\", \"calm\"]\n",
        "\n",
        "famous_songs = {\n",
        "    \"happy\":[(\"Happy-bird\",\"https://youtu.be/D4sTViBfjVE?si=aRSp1VaEuOOJL9Qh\")],\n",
        "    \"sad\":[(\"sad-deer\",\"https://youtu.be/_CB6W6svwB8?si=ocoui6oSLOYfA49l\")],\n",
        "    \"chill\":[(\"chill-cat\",\"https://youtu.be/toTRkovRzvo?si=1eMdRpM-LMywYPgh\")],\n",
        "    \"dark\":[(\"dark-lion\",\"https://youtu.be/5vsOv_bcnhs?si=IaTkdDMHFUvErOIz\")],\n",
        "    \"energetic\":[(\"energetic-dog\",\"https://youtu.be/nmZNS2C24LU?si=dVfXMpyuwrZBVc-s\")],\n",
        "    \"lonely\":[(\"lonely-cubs\",\"https://youtu.be/t8oOYuFd-zw?si=uFgdMmZVzhYeU8n0\")],\n",
        "    \"calm\":[(\"calm-elephant\",\"https://youtu.be/atRzwlp0iDk?si=zn9T13ode-vRTVEl\")]\n",
        "}\n",
        "\n",
        "def predict_mood(image):\n",
        "    inputs = clip_processor(text=moods, images=image, return_tensors=\"pt\", padding=True)\n",
        "    outputs = clip_model(**inputs)\n",
        "    probs = outputs.logits_per_image.softmax(dim=1)\n",
        "    top_idx = probs.argmax().item()\n",
        "    predicted_mood = moods[top_idx]\n",
        "\n",
        "    song_title, song_url = random.choice(famous_songs[predicted_mood])\n",
        "    markdown = f\"\"\"\n",
        "###  Mood: **{predicted_mood.capitalize()}**\n",
        "\n",
        "Recommended Song: **[{song_title}]({song_url})**\n",
        "\n",
        " [Click here to play the song]( {song_url} )\n",
        "\"\"\"\n",
        "    return markdown\n",
        "\n",
        "\n",
        "\n",
        "\n",
        "gr.Interface(\n",
        "    fn=predict_mood,\n",
        "    inputs=gr.Image(type=\"pil\"),\n",
        "    outputs=gr.Markdown(),\n",
        "    title=\" Image Mood → Real Song Recommender\",\n",
        "    description=\"Upload an image and get a famous Hindi/English song based on your mood. Click the link to play!\",\n",
        "    theme=\"default\"\n",
        ").launch()\n",
        "\n",
        "\n",
        "\n",
        "\n"
      ],
      "metadata": {
        "colab": {
          "base_uri": "https://localhost:8080/",
          "height": 650
        },
        "id": "0o4yXRZdOCYs",
        "outputId": "39b6ea75-9cd9-402f-ba7f-7aa9c9994bcf"
      },
      "execution_count": null,
      "outputs": [
        {
          "output_type": "stream",
          "name": "stdout",
          "text": [
            "It looks like you are running Gradio on a hosted a Jupyter notebook. For the Gradio app to work, sharing must be enabled. Automatically setting `share=True` (you can turn this off by setting `share=False` in `launch()` explicitly).\n",
            "\n",
            "Colab notebook detected. To show errors in colab notebook, set debug=True in launch()\n",
            "* Running on public URL: https://9f1ae916b8f9034669.gradio.live\n",
            "\n",
            "This share link expires in 1 week. For free permanent hosting and GPU upgrades, run `gradio deploy` from the terminal in the working directory to deploy to Hugging Face Spaces (https://huggingface.co/spaces)\n"
          ]
        },
        {
          "output_type": "display_data",
          "data": {
            "text/plain": [
              "<IPython.core.display.HTML object>"
            ],
            "text/html": [
              "<div><iframe src=\"https://9f1ae916b8f9034669.gradio.live\" width=\"100%\" height=\"500\" allow=\"autoplay; camera; microphone; clipboard-read; clipboard-write;\" frameborder=\"0\" allowfullscreen></iframe></div>"
            ]
          },
          "metadata": {}
        },
        {
          "output_type": "execute_result",
          "data": {
            "text/plain": []
          },
          "metadata": {},
          "execution_count": 7
        }
      ]
    },
    {
      "cell_type": "code",
      "source": [
        "%pip install -U -q \"google-genai>=1.16.0\""
      ],
      "metadata": {
        "colab": {
          "base_uri": "https://localhost:8080/"
        },
        "id": "hyO7k4tePo39",
        "outputId": "9eb7b697-8aa9-4262-e1c5-571fa0121fcc"
      },
      "execution_count": null,
      "outputs": [
        {
          "output_type": "stream",
          "name": "stdout",
          "text": [
            "\u001b[2K     \u001b[90m━━━━━━━━━━━━━━━━━━━━━━━━━━━━━━━━━━━━━━━\u001b[0m \u001b[32m41.6/41.6 kB\u001b[0m \u001b[31m353.4 kB/s\u001b[0m eta \u001b[36m0:00:00\u001b[0m\n",
            "\u001b[2K   \u001b[90m━━━━━━━━━━━━━━━━━━━━━━━━━━━━━━━━━━━━━━━━\u001b[0m \u001b[32m226.8/226.8 kB\u001b[0m \u001b[31m1.2 MB/s\u001b[0m eta \u001b[36m0:00:00\u001b[0m\n",
            "\u001b[?25h"
          ]
        }
      ]
    },
    {
      "cell_type": "code",
      "source": [
        "from google.colab import userdata\n",
        "\n",
        "GOOGLE_API_KEY=userdata.get('GOOGLE_API_KEY')"
      ],
      "metadata": {
        "id": "jWKTDaXXP8n4"
      },
      "execution_count": null,
      "outputs": []
    },
    {
      "cell_type": "code",
      "source": [
        "from google import genai\n",
        "from google.genai import types\n",
        "\n",
        "client=genai.Client(api_key=GOOGLE_API_KEY)"
      ],
      "metadata": {
        "id": "osXOj0_aRxl3"
      },
      "execution_count": null,
      "outputs": []
    },
    {
      "cell_type": "code",
      "source": [
        "import time\n",
        "def upload_video(video_file_name):\n",
        "  video_file = client.files.upload(file=video_file_name)\n",
        "  while video_file.state== \"PROCESSING\":\n",
        "    print(\"waiting For video to be processed\")\n",
        "    time.sleep(10)\n",
        "    video_file=client.files.get(name=video_file.name)\n",
        "    if video_file.state==\"FAILED\":\n",
        "      raise ValueError(video_file.state)\n",
        "    print(f\"video processing completed:\"+video_file.url)\n",
        "    return video_file\n",
        "\n",
        "pottery_video = upload_video('Pottery.mp4')\n",
        "trailcam_video = upload_video('Trailcam.mp4')\n",
        "post_its_video = upload_video('Post_its.mp4')\n",
        "user_study_video = upload_video('/content/user_study.mp4')\n",
        "\n",
        "\n"
      ],
      "metadata": {
        "colab": {
          "base_uri": "https://localhost:8080/",
          "height": 370
        },
        "id": "ir21BTtRSE7Q",
        "outputId": "0a0db34b-d47f-45a2-d490-1ed75c14ef36"
      },
      "execution_count": null,
      "outputs": [
        {
          "output_type": "error",
          "ename": "FileNotFoundError",
          "evalue": "Pottery.mp4 is not a valid file path.",
          "traceback": [
            "\u001b[0;31m---------------------------------------------------------------------------\u001b[0m",
            "\u001b[0;31mFileNotFoundError\u001b[0m                         Traceback (most recent call last)",
            "\u001b[0;32m/tmp/ipython-input-16-1554377809.py\u001b[0m in \u001b[0;36m<cell line: 0>\u001b[0;34m()\u001b[0m\n\u001b[1;32m     11\u001b[0m     \u001b[0;32mreturn\u001b[0m \u001b[0mvideo_file\u001b[0m\u001b[0;34m\u001b[0m\u001b[0;34m\u001b[0m\u001b[0m\n\u001b[1;32m     12\u001b[0m \u001b[0;34m\u001b[0m\u001b[0m\n\u001b[0;32m---> 13\u001b[0;31m \u001b[0mpottery_video\u001b[0m \u001b[0;34m=\u001b[0m \u001b[0mupload_video\u001b[0m\u001b[0;34m(\u001b[0m\u001b[0;34m'Pottery.mp4'\u001b[0m\u001b[0;34m)\u001b[0m\u001b[0;34m\u001b[0m\u001b[0;34m\u001b[0m\u001b[0m\n\u001b[0m\u001b[1;32m     14\u001b[0m \u001b[0mtrailcam_video\u001b[0m \u001b[0;34m=\u001b[0m \u001b[0mupload_video\u001b[0m\u001b[0;34m(\u001b[0m\u001b[0;34m'Trailcam.mp4'\u001b[0m\u001b[0;34m)\u001b[0m\u001b[0;34m\u001b[0m\u001b[0;34m\u001b[0m\u001b[0m\n\u001b[1;32m     15\u001b[0m \u001b[0mpost_its_video\u001b[0m \u001b[0;34m=\u001b[0m \u001b[0mupload_video\u001b[0m\u001b[0;34m(\u001b[0m\u001b[0;34m'Post_its.mp4'\u001b[0m\u001b[0;34m)\u001b[0m\u001b[0;34m\u001b[0m\u001b[0;34m\u001b[0m\u001b[0m\n",
            "\u001b[0;32m/tmp/ipython-input-16-1554377809.py\u001b[0m in \u001b[0;36mupload_video\u001b[0;34m(video_file_name)\u001b[0m\n\u001b[1;32m      1\u001b[0m \u001b[0;32mimport\u001b[0m \u001b[0mtime\u001b[0m\u001b[0;34m\u001b[0m\u001b[0;34m\u001b[0m\u001b[0m\n\u001b[1;32m      2\u001b[0m \u001b[0;32mdef\u001b[0m \u001b[0mupload_video\u001b[0m\u001b[0;34m(\u001b[0m\u001b[0mvideo_file_name\u001b[0m\u001b[0;34m)\u001b[0m\u001b[0;34m:\u001b[0m\u001b[0;34m\u001b[0m\u001b[0;34m\u001b[0m\u001b[0m\n\u001b[0;32m----> 3\u001b[0;31m   \u001b[0mvideo_file\u001b[0m \u001b[0;34m=\u001b[0m \u001b[0mclient\u001b[0m\u001b[0;34m.\u001b[0m\u001b[0mfiles\u001b[0m\u001b[0;34m.\u001b[0m\u001b[0mupload\u001b[0m\u001b[0;34m(\u001b[0m\u001b[0mfile\u001b[0m\u001b[0;34m=\u001b[0m\u001b[0mvideo_file_name\u001b[0m\u001b[0;34m)\u001b[0m\u001b[0;34m\u001b[0m\u001b[0;34m\u001b[0m\u001b[0m\n\u001b[0m\u001b[1;32m      4\u001b[0m   \u001b[0;32mwhile\u001b[0m \u001b[0mvideo_file\u001b[0m\u001b[0;34m.\u001b[0m\u001b[0mstate\u001b[0m\u001b[0;34m==\u001b[0m \u001b[0;34m\"PROCESSING\"\u001b[0m\u001b[0;34m:\u001b[0m\u001b[0;34m\u001b[0m\u001b[0;34m\u001b[0m\u001b[0m\n\u001b[1;32m      5\u001b[0m     \u001b[0mprint\u001b[0m\u001b[0;34m(\u001b[0m\u001b[0;34m\"waiting For video to be processed\"\u001b[0m\u001b[0;34m)\u001b[0m\u001b[0;34m\u001b[0m\u001b[0;34m\u001b[0m\u001b[0m\n",
            "\u001b[0;32m/usr/local/lib/python3.11/dist-packages/google/genai/files.py\u001b[0m in \u001b[0;36mupload\u001b[0;34m(self, file, config)\u001b[0m\n\u001b[1;32m    622\u001b[0m       \u001b[0mfs_path\u001b[0m \u001b[0;34m=\u001b[0m \u001b[0mos\u001b[0m\u001b[0;34m.\u001b[0m\u001b[0mfspath\u001b[0m\u001b[0;34m(\u001b[0m\u001b[0mfile\u001b[0m\u001b[0;34m)\u001b[0m\u001b[0;34m\u001b[0m\u001b[0;34m\u001b[0m\u001b[0m\n\u001b[1;32m    623\u001b[0m       \u001b[0;32mif\u001b[0m \u001b[0;32mnot\u001b[0m \u001b[0mfs_path\u001b[0m \u001b[0;32mor\u001b[0m \u001b[0;32mnot\u001b[0m \u001b[0mos\u001b[0m\u001b[0;34m.\u001b[0m\u001b[0mpath\u001b[0m\u001b[0;34m.\u001b[0m\u001b[0misfile\u001b[0m\u001b[0;34m(\u001b[0m\u001b[0mfs_path\u001b[0m\u001b[0;34m)\u001b[0m\u001b[0;34m:\u001b[0m\u001b[0;34m\u001b[0m\u001b[0;34m\u001b[0m\u001b[0m\n\u001b[0;32m--> 624\u001b[0;31m         \u001b[0;32mraise\u001b[0m \u001b[0mFileNotFoundError\u001b[0m\u001b[0;34m(\u001b[0m\u001b[0;34mf'{file} is not a valid file path.'\u001b[0m\u001b[0;34m)\u001b[0m\u001b[0;34m\u001b[0m\u001b[0;34m\u001b[0m\u001b[0m\n\u001b[0m\u001b[1;32m    625\u001b[0m       \u001b[0mfile_obj\u001b[0m\u001b[0;34m.\u001b[0m\u001b[0msize_bytes\u001b[0m \u001b[0;34m=\u001b[0m \u001b[0mos\u001b[0m\u001b[0;34m.\u001b[0m\u001b[0mpath\u001b[0m\u001b[0;34m.\u001b[0m\u001b[0mgetsize\u001b[0m\u001b[0;34m(\u001b[0m\u001b[0mfs_path\u001b[0m\u001b[0;34m)\u001b[0m\u001b[0;34m\u001b[0m\u001b[0;34m\u001b[0m\u001b[0m\n\u001b[1;32m    626\u001b[0m       \u001b[0;32mif\u001b[0m \u001b[0mfile_obj\u001b[0m\u001b[0;34m.\u001b[0m\u001b[0mmime_type\u001b[0m \u001b[0;32mis\u001b[0m \u001b[0;32mNone\u001b[0m\u001b[0;34m:\u001b[0m\u001b[0;34m\u001b[0m\u001b[0;34m\u001b[0m\u001b[0m\n",
            "\u001b[0;31mFileNotFoundError\u001b[0m: Pottery.mp4 is not a valid file path."
          ]
        }
      ]
    }
  ]
}